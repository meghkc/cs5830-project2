{
 "cells": [
  {
   "cell_type": "markdown",
   "metadata": {},
   "source": [
    "## Import All Necessary Modules And Setup Project\n",
    "If you get any errors when importing these, ensure you run the command:\n",
    "\n",
    "  $ python -m pip install -r requirements.txt\n",
    "\n",
    "to install all necessary modules for this project. This command must be run from inside of this project directory.\n",
    "\n",
    "It is recommended to use virtual environments for this project to ensure there is no conflicting package versions on your system.\n",
    "\n",
    "Activate the virtual environment (if needed), run the pip install command, and then launch Jupyter Lab inside this project to get this project running."
   ]
  },
  {
   "cell_type": "code",
   "execution_count": null,
   "metadata": {},
   "outputs": [],
   "source": [
    "import pandas as pd\n",
    "from matplotlib import pyplot as plt\n",
    "import seaborn as sns\n",
    "from scipy import stats\n",
    "import numpy as np"
   ]
  },
  {
   "cell_type": "code",
   "execution_count": null,
   "metadata": {},
   "outputs": [],
   "source": [
    "masterData=pd.read_csv(\"data/crime-housing-austin-2015.csv\")\n",
    "ZipcodeData=pd.read_csv(\"data/AustinZipCodes.csv\")\n",
    "#explore dataset\n",
    "masterData.head()\n",
    "#It receives an int or None (to print all the columns):\n",
    "pd.set_option('display.max_columns', None)\n",
    "masterData.head()"
   ]
  },
  {
   "cell_type": "code",
   "execution_count": null,
   "metadata": {},
   "outputs": [],
   "source": [
    "masterData.Populationbelowpovertylevel.unique()"
   ]
  },
  {
   "cell_type": "code",
   "execution_count": null,
   "metadata": {},
   "outputs": [],
   "source": [
    "ZipcodeData.head()"
   ]
  },
  {
   "cell_type": "code",
   "execution_count": null,
   "metadata": {},
   "outputs": [],
   "source": [
    "#list out all the columns in a dataset\n",
    "list(masterData)\n",
    "#list unique values in a column \"Council_District\" of a dataset\n",
    "masterData.Council_District.unique()\n",
    "#clear rows that contains nan values\n",
    "masterData=masterData.dropna()"
   ]
  },
  {
   "cell_type": "code",
   "execution_count": null,
   "metadata": {},
   "outputs": [],
   "source": [
    "#type of a dataset columns\n",
    "masterData.dtypes\n",
    "#\"council district\" & \"zip codes\" are float, lets make it as int first\n",
    "masterData=masterData.astype({\"Council_District\":'int',\"Zip_Code_Crime\":'int'})\n",
    "#percent sign or dollar sign attached\n",
    "#dataset['colname'] = dataset['colname'].str.replace('$', '').astype('float')\n",
    "masterData['Medianhouseholdincome'] = masterData['Medianhouseholdincome'].str.replace('$', '').astype('float')\n",
    "masterData['Unemployment'] = masterData['Unemployment'].str.replace('%', '').astype('int')\n",
    "masterData['Populationbelowpovertylevel'] = masterData['Populationbelowpovertylevel'].str.replace('%', '').astype('int')"
   ]
  },
  {
   "cell_type": "code",
   "execution_count": null,
   "metadata": {
    "scrolled": true
   },
   "outputs": [],
   "source": [
    "sub_masterData=masterData[['Key','Zip_Code_Crime','District','Clearance_Status','Highest_NIBRS_UCR_Offense_Description',\n",
    "                              'Medianhouseholdincome', 'Unemployment','Populationbelowpovertylevel']]\n",
    "sub_masterData=sub_masterData.rename(columns={'Zip_Code_Crime':'Zip Code','Highest_NIBRS_UCR_Offense_Description':'crime_type',\n",
    "                                             'Clearance_Status':'CS','Medianhouseholdincome':'MhhI($)','Unemployment':'UE(%)',\n",
    "                                             'Populationbelowpovertylevel':'Pov_lvl'})\n",
    "display(sub_masterData)"
   ]
  },
  {
   "cell_type": "code",
   "execution_count": null,
   "metadata": {},
   "outputs": [],
   "source": [
    "#aggregate the total number of each type of crimes\n",
    "crime_types = sub_masterData.groupby('crime_type').agg(\n",
    "    {'crime_type': 'count'})\n",
    "crime_types=crime_types.rename(columns={'crime_type':'count'})\n",
    "crime_types=crime_types.reset_index()\n",
    "\n",
    "#plot figure\n",
    "plt.figure(figsize=(8,8))\n",
    "plt.pie(data=crime_types, x='count',shadow=True)\n",
    "plt.title('Texas Crime Results in 2015')\n",
    "plt.legend(labels=crime_types['crime_type'])\n",
    "plt.savefig('pi_plot_categorical_crime.jpeg')"
   ]
  },
  {
   "cell_type": "markdown",
   "metadata": {},
   "source": [
    "## main instructions\n",
    "Your analysis must include a **number of statistical methods**. You must include `Pearson correlations` (be sure to report the **`p-value`**), _scatterplots_, _averages_, _standard deviations_, and a **t-test** (or **Mann-Whitney-U test**). The specific number of analyses is left up to you, but the contribution must be significant and your project report must give detailed justification and results for each analysis."
   ]
  },
  {
   "cell_type": "code",
   "execution_count": null,
   "metadata": {},
   "outputs": [],
   "source": [
    "#aggregate the total number of crimes with respect to population below poverty level\n",
    "crime_POV_lvl = sub_masterData.groupby('Pov_lvl').agg(\n",
    "    {'crime_type': 'count'})"
   ]
  },
  {
   "cell_type": "code",
   "execution_count": null,
   "metadata": {},
   "outputs": [],
   "source": [
    "crime_POV_lvl =crime_POV_lvl.rename(columns={'crime_type':'crime_count_by_PoVlvl'})\n",
    "crime_POV_lvl =crime_POV_lvl.reset_index()"
   ]
  },
  {
   "cell_type": "markdown",
   "metadata": {},
   "source": [
    "## Show a scatterplot and regression line & Pearson R\n",
    "correlation between population percentage below poverty line towards the crime commit"
   ]
  },
  {
   "cell_type": "code",
   "execution_count": null,
   "metadata": {
    "scrolled": true
   },
   "outputs": [],
   "source": [
    "plt.figure(figsize=(8,8))\n",
    "sns.regplot('Pov_lvl', 'crime_count_by_PoVlvl', data=crime_POV_lvl)\n",
    "\n",
    "plt.title('correlation for population % below poverty line to crime commit')\n",
    "plt.savefig('correlation for population % below poverty line to crime commit.jpeg')\n",
    "#pearson R coefficient and probaility in confidence of statistics\n",
    "display(stats.pearsonr(crime_POV_lvl.Pov_lvl, crime_POV_lvl.crime_count_by_PoVlvl))"
   ]
  },
  {
   "cell_type": "code",
   "execution_count": null,
   "metadata": {},
   "outputs": [],
   "source": []
  }
 ],
 "metadata": {
  "kernelspec": {
   "display_name": "Python 3",
   "language": "python",
   "name": "python3"
  },
  "language_info": {
   "codemirror_mode": {
    "name": "ipython",
    "version": 3
   },
   "file_extension": ".py",
   "mimetype": "text/x-python",
   "name": "python",
   "nbconvert_exporter": "python",
   "pygments_lexer": "ipython3",
   "version": "3.8.5"
  }
 },
 "nbformat": 4,
 "nbformat_minor": 4
}
