{
 "cells": [
  {
   "cell_type": "markdown",
   "id": "e768a233",
   "metadata": {},
   "source": [
    "# Import All Necessary Modules And Setup Project\n",
    "\n",
    "If you get any errors when importing these, ensure you run the command:\n",
    "```bash\n",
    "$ python -m pip install -r requirements.txt\n",
    "```\n",
    "to install all necessary modules for this project. This command must be run from inside of this project directory.\n",
    "\n",
    "It is recommended to use virtual environments for this project to ensure there is no conflicting package versions on your system.\n",
    "\n",
    "Activate the virtual environment (if needed), run the pip install command, and then launch Jupyter Lab inside this project to get this project running."
   ]
  },
  {
   "cell_type": "code",
   "execution_count": null,
   "id": "5d7eaeb6",
   "metadata": {},
   "outputs": [],
   "source": [
    "import pandas as pd\n",
    "from matplotlib import pyplot as plt\n",
    "import seaborn as sns"
   ]
  },
  {
   "cell_type": "markdown",
   "id": "13f9fd0c",
   "metadata": {},
   "source": [
    "# Load Raw Data Files With Pandas\n",
    "\n",
    "If any of these fail, visit the data directory and ensure that you've got the data sources downloaded and unzipped using the correct conventions. See [data/README.md](data/README.md) for guidance on how to setup the `data` directory properly.\n",
    "\n",
    "If it still fails, ensure that you launched Jupyter Lab/Notebook from the root of this project."
   ]
  },
 }
