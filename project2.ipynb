{
 "cells": [
  {
   "cell_type": "markdown",
   "metadata": {},
   "source": [
    "## Import All Necessary Modules And Setup Project\n",
    "If you get any errors when importing these, ensure you run the command:\n",
    "\n",
    "  $ python -m pip install -r requirements.txt\n",
    "\n",
    "to install all necessary modules for this project. This command must be run from inside of this project directory.\n",
    "\n",
    "It is recommended to use virtual environments for this project to ensure there is no conflicting package versions on your system.\n",
    "\n",
    "Activate the virtual environment (if needed), run the pip install command, and then launch Jupyter Lab inside this project to get this project running."
   ]
  },
  {
   "cell_type": "code",
   "execution_count": null,
   "metadata": {},
   "outputs": [],
   "source": [
    "import pandas as pd\n",
    "from matplotlib import pyplot as plt\n",
    "import seaborn as sns\n",
    "from scipy import stats\n",
    "import numpy as np\n",
    "from scipy.stats import t\n",
    "from numpy.polynomial.polynomial import polyfit"
   ]
  },
  {
   "cell_type": "code",
   "execution_count": null,
   "metadata": {},
   "outputs": [],
   "source": [
    "masterData=pd.read_csv(\"data/crime-housing-austin-2015.csv\")\n",
    "ZipcodeData=pd.read_csv(\"data/AustinZipCodes.csv\")\n",
    "#explore dataset\n",
    "masterData.head()\n",
    "#It receives an int or None (to print all the columns):\n",
    "pd.set_option('display.max_columns', None)\n",
    "masterData.head()"
   ]
  },
  {
   "cell_type": "code",
   "execution_count": null,
   "metadata": {},
   "outputs": [],
   "source": [
    "masterData.Zip_Code_Crime.unique()"
   ]
  },
  {
   "cell_type": "code",
   "execution_count": null,
   "metadata": {},
   "outputs": [],
   "source": [
    "ZipcodeData.head()"
   ]
  },
  {
   "cell_type": "code",
   "execution_count": null,
   "metadata": {},
   "outputs": [],
   "source": [
    "#list out all the columns in a dataset\n",
    "list(masterData)\n",
    "#list unique values in a column \"Council_District\" of a dataset\n",
    "masterData.Council_District.unique()\n",
    "#clear rows that contains nan values\n",
    "masterData=masterData.dropna()\n",
    "ZipcodeData=ZipcodeData.dropna()"
   ]
  },
  {
   "cell_type": "code",
   "execution_count": null,
   "metadata": {},
   "outputs": [],
   "source": [
    "#type of a dataset columns\n",
    "masterData.dtypes\n",
    "#\"council district\" & \"zip codes\" are float, lets make it as int first\n",
    "masterData=masterData.astype({\"Council_District\":'int',\"Zip_Code_Crime\":'int'})\n",
    "#percent sign or dollar sign attached\n",
    "#dataset['colname'] = dataset['colname'].str.replace('$', '').astype('float')\n",
    "masterData['Medianhouseholdincome'] = masterData['Medianhouseholdincome'].str.replace('$', '').astype('float')\n",
    "masterData['Medianrent'] = masterData['Medianrent'].str.replace('$', '').astype('float')\n",
    "masterData['Medianhomevalue'] = masterData['Medianhomevalue'].str.replace('$', '').astype('float')\n",
    "masterData['Unemployment'] = masterData['Unemployment'].str.replace('%', '').astype('int')\n",
    "masterData['Populationbelowpovertylevel'] = masterData['Populationbelowpovertylevel'].str.replace('%', '').astype('int')\n",
    "masterData['Non-WhiteNon-HispanicorLatino'] = masterData['Non-WhiteNon-HispanicorLatino'].str.replace('%', '').astype('int')\n",
    "masterData['HispanicorLatinoofanyrace'] = masterData['HispanicorLatinoofanyrace'].str.replace('%', '').astype('int')"
   ]
  },
  {
   "cell_type": "code",
   "execution_count": null,
   "metadata": {
    "scrolled": true
   },
   "outputs": [],
   "source": [
    "sub_masterData=masterData[['Key','Zip_Code_Crime','District','Clearance_Status','Highest_NIBRS_UCR_Offense_Description',\n",
    "                              'Medianhouseholdincome', 'Unemployment','Populationbelowpovertylevel','Medianrent',\n",
    "                              'Medianhomevalue','Non-WhiteNon-HispanicorLatino','HispanicorLatinoofanyrace']]\n",
    "sub_masterData=sub_masterData.rename(columns={'Zip_Code_Crime':'Zip_Code','Highest_NIBRS_UCR_Offense_Description':'crime_type',\n",
    "                                             'Clearance_Status':'CS','Medianhouseholdincome':'MhhI','Unemployment':'UE(%)',\n",
    "                                             'Populationbelowpovertylevel':'Pov_lvl','Medianrent':'rent',\n",
    "                                             'Medianhomevalue':'home_price','HispanicorLatinoofanyrace':'hispanic',\n",
    "                                             'Non-WhiteNon-HispanicorLatino':'non_wh_non_lat'})\n",
    "display(sub_masterData)\n",
    "ZipcodeData=ZipcodeData.rename(columns={'Zip Code':'Zip_Code'})\n",
    "display(ZipcodeData)"
   ]
  },
  {
   "cell_type": "code",
   "execution_count": null,
   "metadata": {},
   "outputs": [],
   "source": [
    "ZipcodeData.dtypes"
   ]
  },
  {
   "cell_type": "code",
   "execution_count": null,
   "metadata": {},
   "outputs": [],
   "source": [
    "#groupby zip code for sub_masterdata\n",
    "grp_sub_masterData = sub_masterData.groupby('Zip_Code').agg(\n",
    "    {'crime_type': 'count','MhhI':'mean','UE(%)':'mean','Pov_lvl':'mean','rent':'mean','home_price':'mean',\n",
    "    'non_wh_non_lat':'mean','hispanic':'mean'})\n",
    "grp_sub_masterData=grp_sub_masterData.rename(columns={'crime_type':'crime_count'})\n",
    "grp_sub_masterData=grp_sub_masterData.reset_index()\n",
    "merged_dataset=pd.merge(grp_sub_masterData,ZipcodeData,on='Zip_Code')\n",
    "\n",
    "#Convert string with comma separator and dot to float\n",
    "merged_dataset['Population'] = merged_dataset['Population'].str.replace(',', '').astype(float)\n",
    "merged_dataset.head()"
   ]
  },
  {
   "cell_type": "code",
   "execution_count": null,
   "metadata": {
    "scrolled": true
   },
   "outputs": [],
   "source": [
    "#aggregate the total number of each type of crimes\n",
    "crime_types = sub_masterData.groupby('crime_type').agg(\n",
    "    {'crime_type': 'count'})\n",
    "crime_types=crime_types.rename(columns={'crime_type':'count'})\n",
    "crime_types=crime_types.reset_index()\n",
    "\n",
    "#plot figure\n",
    "plt.figure(figsize=(8,8))\n",
    "plt.pie(data=crime_types, x='count',shadow=True)\n",
    "plt.title('Texas Crime Results in 2015')\n",
    "plt.legend(labels=crime_types['crime_type'])\n",
    "plt.savefig('pi_plot_categorical_crime.jpeg')"
   ]
  },
  {
   "cell_type": "markdown",
   "metadata": {},
   "source": [
    "## main instructions\n",
    "Your analysis must include a **number of statistical methods**. You must include `Pearson correlations` (be sure to report the **`p-value`**), _scatterplots_, _averages_, _standard deviations_, and a **t-test** (or **Mann-Whitney-U test**). The specific number of analyses is left up to you, but the contribution must be significant and your project report must give detailed justification and results for each analysis."
   ]
  },
  {
   "cell_type": "markdown",
   "metadata": {},
   "source": [
    "## Look at summary statistics mean, median, and mode"
   ]
  },
  {
   "cell_type": "code",
   "execution_count": null,
   "metadata": {},
   "outputs": [],
   "source": [
    "rent=sub_masterData.rent\n",
    "homeprice=sub_masterData.home_price\n",
    "print('mean: {}\\nmedian: {}\\nstddev: {}\\nmode: {}'.format(rent.mean(), rent.median(), rent.std(), rent.mode()))\n",
    "print('mean: {}\\nmedian: {}\\nstddev: {}\\nmode: {}'.format(homeprice.mean(), homeprice.median(), homeprice.std(),\n",
    "                                                          homeprice.mode()))\n",
    "sub_masterData.describe()"
   ]
  },
  {
   "cell_type": "markdown",
   "metadata": {},
   "source": [
    "## Show a scatterplot and regression line & Pearson R\n",
    "correlation between population percentage below poverty line towards the crime commit"
   ]
  },
  {
   "cell_type": "code",
   "execution_count": null,
   "metadata": {},
   "outputs": [],
   "source": [
    "#aggregate the total number of crimes with respect to population below poverty level\n",
    "crime_POV_lvl = sub_masterData.groupby('Pov_lvl').agg(\n",
    "    {'crime_type': 'count'})"
   ]
  },
  {
   "cell_type": "code",
   "execution_count": null,
   "metadata": {},
   "outputs": [],
   "source": [
    "crime_POV_lvl =crime_POV_lvl.rename(columns={'crime_type':'crime_count_by_PoVlvl'})\n",
    "crime_POV_lvl =crime_POV_lvl.reset_index()"
   ]
  },
  {
   "cell_type": "code",
   "execution_count": null,
   "metadata": {
    "scrolled": false
   },
   "outputs": [],
   "source": [
    "plt.figure(figsize=(8,8))\n",
    "sns.regplot('Pov_lvl', 'crime_count_by_PoVlvl', data=crime_POV_lvl)\n",
    "\n",
    "plt.title('correlation for population % below poverty line to crime commit')\n",
    "plt.savefig('correlation for population % below poverty line to crime commit.jpeg')\n",
    "#pearson R coefficient and probaility in confidence of statistics\n",
    "display(stats.pearsonr(crime_POV_lvl.Pov_lvl, crime_POV_lvl.crime_count_by_PoVlvl))"
   ]
  },
  {
   "cell_type": "code",
   "execution_count": null,
   "metadata": {
    "scrolled": false
   },
   "outputs": [],
   "source": [
    "plt.figure(figsize=(8,8))\n",
    "sns.regplot('rent', 'home_price', data=sub_masterData,marker='o',scatter_kws={'s':15},color='blue',line_kws={'color':'red'})\n",
    "plt.title('correlation for rent paid by people to price of house')\n",
    "plt.xlabel('rent paid($)')\n",
    "plt.ylabel('median price of house in texas ($)')\n",
    "plt.savefig('correlation for rent paid by people to price of house.jpeg')\n",
    "#pearson R coefficient and probaility in confidence of statistics\n",
    "display(stats.pearsonr(sub_masterData.rent, sub_masterData.home_price))"
   ]
  },
  {
   "cell_type": "code",
   "execution_count": null,
   "metadata": {},
   "outputs": [],
   "source": [
    "plt.figure(figsize=(8,8))\n",
    "sns.regplot('Population', 'home_price', data=merged_dataset,marker='o',scatter_kws={'s':15},color='blue',line_kws={'color':'red'})\n",
    "plt.title('correlation for population to price of house')\n",
    "plt.xlabel('population')\n",
    "plt.ylabel('median price of house in texas ($)')\n",
    "plt.savefig('correlation for population to price of house.jpeg')\n",
    "#pearson R coefficient and probaility in confidence of statistics\n",
    "display(stats.pearsonr(merged_dataset.Population, merged_dataset.home_price))"
   ]
  },
  {
   "cell_type": "markdown",
   "metadata": {},
   "source": [
    "## distribution plots"
   ]
  },
  {
   "cell_type": "code",
   "execution_count": null,
   "metadata": {},
   "outputs": [],
   "source": [
    "plt.figure()\n",
    "#histogram plot or KDE plot \n",
    "#sns.kdeplot(data = sub_masterData['MhhI'])\n",
    "#sns.histplot(data = sub_masterData['MhhI'],bins=11,kde=True,legend=True)\n",
    "sns.distplot(sub_masterData[sub_masterData.CS == 'N'].rent, hist=False, label='not cleared',bins=None)\n",
    "sns.distplot(sub_masterData[sub_masterData.CS == 'C'].rent, hist=False, label='cleared by arrest',bins=None)\n",
    "sns.distplot(sub_masterData[sub_masterData.CS == 'O'].rent, hist=False, label='cleared by exception',bins=None)\n",
    "plt.xlabel('median house rent($)')\n",
    "plt.legend()"
   ]
  },
  {
   "cell_type": "markdown",
   "metadata": {},
   "source": [
    "## T distribution\n",
    "The t test computes t-statistic, which measures the spread between means. What are the chances that we re-sampled from a population and got the same value of t? This is what the p value is important for."
   ]
  },
  {
   "cell_type": "code",
   "execution_count": null,
   "metadata": {},
   "outputs": [],
   "source": [
    "#sns.distplot(sub_masterData.rent, hist=False)\n",
    "#sns.distplot(sub_masterData.home_price, hist=False)\n",
    "\n",
    "#t-test for rent vs house price in texas in 2015\n",
    "stats.ttest_ind(sub_masterData.rent, sub_masterData.home_price)"
   ]
  },
  {
   "cell_type": "code",
   "execution_count": null,
   "metadata": {},
   "outputs": [],
   "source": [
    "#t-test for population % below poverty level\n",
    "stats.ttest_ind(sub_masterData.Pov_lvl, sub_masterData.rent)"
   ]
  },
  {
   "cell_type": "code",
   "execution_count": null,
   "metadata": {},
   "outputs": [],
   "source": [
    "#t-test for population and house price by places\n",
    "stats.ttest_ind(merged_dataset.Population, merged_dataset.MhhI)"
   ]
  },
  {
   "cell_type": "markdown",
   "metadata": {},
   "source": [
    "## Simpson's Paradox\n",
    "Simpson's paradox occurs when trends that are present when data is separated into groups reverse when the data is aggregated. In this notebook, we take a look at four simple examples of Simpson's Paradox both quantitatively and visually."
   ]
  },
  {
   "cell_type": "code",
   "execution_count": null,
   "metadata": {},
   "outputs": [],
   "source": []
  }
 ],
 "metadata": {
  "kernelspec": {
   "display_name": "Python 3",
   "language": "python",
   "name": "python3"
  },
  "language_info": {
   "codemirror_mode": {
    "name": "ipython",
    "version": 3
   },
   "file_extension": ".py",
   "mimetype": "text/x-python",
   "name": "python",
   "nbconvert_exporter": "python",
   "pygments_lexer": "ipython3",
   "version": "3.8.5"
  }
 },
 "nbformat": 4,
 "nbformat_minor": 4
}
