{
 "cells": [
  {
   "cell_type": "markdown",
   "metadata": {},
   "source": [
    "## Import All Necessary Modules And Setup Project\n",
    "If you get any errors when importing these, ensure you run the command:\n",
    "\n",
    "  $ python -m pip install -r requirements.txt\n",
    "\n",
    "to install all necessary modules for this project. This command must be run from inside of this project directory.\n",
    "\n",
    "It is recommended to use virtual environments for this project to ensure there is no conflicting package versions on your system.\n",
    "\n",
    "Activate the virtual environment (if needed), run the pip install command, and then launch Jupyter Lab inside this project to get this project running."
   ]
  },
  {
   "cell_type": "code",
   "execution_count": null,
   "metadata": {},
   "outputs": [],
   "source": [
    "import pandas as pd\n",
    "from matplotlib import pyplot as plt\n",
    "import seaborn as sns"
   ]
  },
  {
   "cell_type": "code",
   "execution_count": null,
   "metadata": {},
   "outputs": [],
   "source": [
    "masterData=pd.read_csv(\"data/crime-housing-austin-2015.csv\")\n",
    "ZipcodeData=pd.read_csv(\"data/AustinZipCodes.csv\")\n",
    "#explore dataset\n",
    "masterData.head()\n",
    "#It receives an int or None (to print all the columns):\n",
    "pd.set_option('display.max_columns', None)\n",
    "masterData.head()"
   ]
  },
  {
   "cell_type": "code",
   "execution_count": null,
   "metadata": {},
   "outputs": [],
   "source": [
    "masterData.Highest_NIBRS_UCR_Offense_Description.unique()\n"
   ]
  },
  {
   "cell_type": "code",
   "execution_count": null,
   "metadata": {},
   "outputs": [],
   "source": [
    "ZipcodeData.head()"
   ]
  },
  {
   "cell_type": "code",
   "execution_count": null,
   "metadata": {},
   "outputs": [],
   "source": [
    "#list out all the columns in a dataset\n",
    "list(masterData)\n",
    "#list unique values in a column \"Council_District\" of a dataset\n",
    "masterData.Council_District.unique()\n",
    "#clear rows that contains nan values\n",
    "masterData=masterData.dropna()"
   ]
  },
  {
   "cell_type": "code",
   "execution_count": null,
   "metadata": {},
   "outputs": [],
   "source": [
    "#type of a dataset columns\n",
    "masterData.dtypes\n",
    "#\"council district\" & \"zip codes\" are float, lets make it as int first\n",
    "masterData=masterData.astype({\"Council_District\":'int',\"Zip_Code_Crime\":'int'})\n",
    "#percent sign or dollar sign attached\n",
    "#dataset['colname'] = dataset['colname'].str.replace('$', '').astype('float')\n",
    "masterData['Medianhouseholdincome'] = masterData['Medianhouseholdincome'].str.replace('$', '').astype('float')"
   ]
  },
  {
   "cell_type": "markdown",
   "metadata": {},
   "source": [
    "## main instructions\n",
    "Your analysis must include a **number of statistical methods**. You must include `Pearson correlations` (be sure to report the **`p-value`**), _scatterplots_, _averages_, _standard deviations_, and a **t-test** (or **Mann-Whitney-U test**). The specific number of analyses is left up to you, but the contribution must be significant and your project report must give detailed justification and results for each analysis."
   ]
  },
  {
   "cell_type": "code",
   "execution_count": null,
   "metadata": {},
   "outputs": [],
   "source": []
  }
 ],
 "metadata": {
  "kernelspec": {
   "display_name": "Python 3",
   "language": "python",
   "name": "python3"
  },
  "language_info": {
   "codemirror_mode": {
    "name": "ipython",
    "version": 3
   },
   "file_extension": ".py",
   "mimetype": "text/x-python",
   "name": "python",
   "nbconvert_exporter": "python",
   "pygments_lexer": "ipython3",
   "version": "3.8.5"
  }
 },
 "nbformat": 4,
 "nbformat_minor": 4
}
