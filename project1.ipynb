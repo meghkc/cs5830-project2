{
 "cells": [
  {
   "cell_type": "markdown",
   "id": "e768a233",
   "metadata": {},
   "source": [
    "# Import All Necessary Modules And Setup Project\n",
    "\n",
    "If you get any errors when importing these, ensure you run the command:\n",
    "```bash\n",
    "$ python -m pip install -r requirements.txt\n",
    "```\n",
    "to install all necessary modules for this project. This command must be run from inside of this project directory.\n",
    "\n",
    "It is recommended to use virtual environments for this project to ensure there is no conflicting package versions on your system.\n",
    "\n",
    "Activate the virtual environment (if needed), run the pip install command, and then launch Jupyter Lab inside this project to get this project running."
   ]
  },
  {
   "cell_type": "code",
   "execution_count": null,
   "id": "5d7eaeb6",
   "metadata": {},
   "outputs": [],
   "source": [
    "import pandas as pd\n",
    "from matplotlib import pyplot as plt\n",
    "import seaborn as sns"
   ]
  },
  {
   "cell_type": "markdown",
   "id": "13f9fd0c",
   "metadata": {},
   "source": [
    "# Load Raw Data Files With Pandas\n",
    "\n",
    "If any of these fail, visit the data directory and ensure that you've got the data sources downloaded and unzipped using the correct conventions. See [data/README.md](data/README.md) for guidance on how to setup the `data` directory properly.\n",
    "\n",
    "If it still fails, ensure that you launched Jupyter Lab/Notebook from the root of this project."
   ]
  },
  {
   "cell_type": "code",
   "execution_count": null,
   "id": "ca78fe65",
   "metadata": {},
   "outputs": [],
   "source": [
    "allBatting = pd.read_csv(\"data/baseballdatabank-2022.2/core/Batting.csv\")\n",
    "allPlayers = pd.read_csv(\"data/baseballdatabank-2022.2/core/People.csv\")\n",
    "allTeams = pd.read_csv('data/baseballdatabank-2022.2/core/Teams.csv')\n",
    "allPlayerBattingData=pd.merge(allBatting,allPlayers, on='playerID')"
   ]
  },
  {
   "attachments": {},
   "cell_type": "markdown",
   "id": "f96ac633-4952-46cc-a115-1ff8a3a18e21",
   "metadata": {},
   "source": [
    "# RBI compared to AB\n",
    "\n",
    "Find the players who bring in the most runs, compared to their at bat chances.\n",
    "\n",
    "Minimum at bat threshold of 100 at bats to account for players that didn't bat much.\n",
    "\n",
    "Plot the RBI ratio in a histogram to see how often most players get an RBI from an at bat."
   ]
  },
  {
   "cell_type": "code",
   "execution_count": null,
   "id": "1a06b85b",
   "metadata": {},
   "outputs": [],
   "source": [
    "playerRBIToAtBats = allPlayerBattingData.groupby(['playerID']).agg(\n",
    "    {\n",
    "        'AB':'sum',\n",
    "        'RBI':'sum',\n",
    "        'R':'sum',\n",
    "        'H':'sum',\n",
    "        'nameFirst': 'last',\n",
    "        'nameLast': 'last'\n",
    "    }\n",
    "    )\n",
    "playerRBIToAtBats = playerRBIToAtBats[ playerRBIToAtBats.AB >= 73]\n",
    "playerRBIToAtBats['RBIAtBatsRatio'] = playerRBIToAtBats.RBI / playerRBIToAtBats.AB\n",
    "playerRBIToAtBats.sort_values('RBIAtBatsRatio', inplace=True, ascending=False)\n",
    "playerRBIToAtBats['playerName'] = playerRBIToAtBats.nameFirst + ' ' + playerRBIToAtBats.nameLast\n",
    "playerRBIToAtBats = playerRBIToAtBats.reset_index()\n",
    "display(playerRBIToAtBats.head(10))\n",
    "playerRBIToAtBats['RBIAtBatsRatio'].mean(), playerRBIToAtBats['RBIAtBatsRatio'].median()"
   ]
  },
  {
   "attachments": {},
   "cell_type": "markdown",
   "id": "7362034b",
   "metadata": {},
   "source": [
    "### Create The Histogram Of Player RBI to At Bats Ratio"
   ]
  },
  {
   "cell_type": "code",
   "execution_count": null,
   "id": "ac869afb",
   "metadata": {},
   "outputs": [],
   "source": [
    "player_rbi_ab_ratio = sns.histplot(\n",
    "    data=playerRBIToAtBats, \n",
    "    x='RBIAtBatsRatio', binwidth=.005\n",
    "    )\n",
    "\n",
    "player_rbi_ab_ratio.set(xlabel='Ratio of RBI to At Bats')\n",
    "\n",
    "player_rbi_ab_ratio.set_title(\"Player Distribution of RBI/At Bats Ratio\", fontsize=20, pad=20)\n",
    "\n",
    "player_rbi_ab_ratio.figure.savefig(\n",
    "    'Player_RBI_To_At_Bats_Ratio.pdf',\n",
    "    bbox_inches='tight'\n",
    "    )"
   ]
  },
  {
   "cell_type": "code",
   "execution_count": null,
   "id": "f2be271b",
   "metadata": {},
   "outputs": [],
   "source": [
    "# The following .sort_values technically isn't necessary, but remains here in the event someone changes the sorting of the dataframe above\n",
    "top_player_rbi_ab_ratio = sns.barplot(\n",
    "    data=playerRBIToAtBats.sort_values('RBIAtBatsRatio', ascending=False).head(10), \n",
    "    x='RBIAtBatsRatio', y='playerName'\n",
    "    )\n",
    "top_player_rbi_ab_ratio.set(\n",
    "    ylabel='Player Name', \n",
    "    xlabel='RBI To At Bats Ratio'\n",
    "    )\n",
    "top_player_rbi_ab_ratio.set_title(\n",
    "    \"Top 10 Players by RBI/AB Ratio\", \n",
    "    fontsize=24, pad=20, loc='center',\n",
    "    x=.4\n",
    "    )\n",
    "\n",
    "top_player_rbi_ab_ratio.figure.savefig('Top_Player_RBI_To_At_Bats_Ratio.pdf', bbox_inches='tight')"
   ]
  },
  {
   "attachments": {},
   "cell_type": "markdown",
   "id": "b6899529-20ac-4895-b226-9f47d1aa0935",
   "metadata": {},
   "source": [
    "# World Series Results\n",
    "\n",
    "Show the world series wins and losses for each team that has made it to the world series.\n",
    "\n",
    "World series started in 1903, ignore all data before 1903. Additionally, it wasn't played in 1904 (Giant's refused to play against the American League) and 1994 (player's strike), so remove those years."
   ]
  },
  {
   "cell_type": "code",
   "execution_count": null,
   "id": "dad30deb",
   "metadata": {},
   "outputs": [],
   "source": [
    "wsInfo = allTeams[\n",
    "    ['yearID', 'LgWin', 'WSWin', 'franchID', 'name']\n",
    "    ]\n",
    "\n",
    "wsInfo = wsInfo[ \n",
    "    (wsInfo.yearID >= 1903) & \n",
    "    (wsInfo.yearID != 1904) & \n",
    "    (wsInfo.yearID != 1994) \n",
    "    ]\n",
    "\n",
    "wsLosses = wsInfo[ \n",
    "    (wsInfo.LgWin == 'Y') & \n",
    "    (wsInfo.WSWin == 'N')\n",
    "    ].copy()\n",
    "\n",
    "wsWins = wsInfo[ \n",
    "    (wsInfo.LgWin == 'Y') & \n",
    "    (wsInfo.WSWin == 'Y')\n",
    "    ].copy()\n",
    "\n",
    "wsLosses['losses'] = 0\n",
    "wsWins['wins'] = 0\n",
    "\n",
    "\n",
    "wsLosses = wsLosses.groupby('franchID').agg(\n",
    "        {'losses': 'count'}\n",
    "    )\n",
    "\n",
    "wsWins = wsWins.groupby('franchID').agg(\n",
    "        {'wins': 'count'}\n",
    "    )\n",
    "teamNames = wsInfo.groupby('franchID').agg(\n",
    "        {'name':'last'}\n",
    "    )\n",
    "\n",
    "wsResults = pd.merge(\n",
    "    wsWins, wsLosses, on='franchID', how='outer'\n",
    "    ).merge(teamNames, on='franchID')\n",
    "\n",
    "\n",
    "# Because we did an outer join to merge the wins/losses tables, some NaN's appear, which can safely be replaced with 0's\n",
    "wsResults['wins'] = wsResults['wins'].fillna(0)\n",
    "wsResults['losses'] = wsResults['losses'].fillna(0)\n",
    "\n",
    "wsResults['appearances'] = wsResults.wins + wsResults.losses\n",
    "wsResults['win_ratio'] = wsResults.wins / wsResults.appearances\n",
    "wsResults['loss_ratio'] = wsResults.losses / wsResults.appearances\n",
    "\n",
    "wsResults = wsResults.reindex(columns=['name', 'appearances', 'wins', 'losses', 'win_ratio', 'loss_ratio'])\n",
    "\n",
    "wsResults.sort_values('appearances', inplace=True, ascending=False)\n",
    "\n",
    "wsResults"
   ]
  },
  {
   "attachments": {},
   "cell_type": "markdown",
   "id": "439d520a",
   "metadata": {},
   "source": [
    "## Make Pie-plot of World Series Results\n",
    "\n",
    "Show the wins and losses of each team in a pie-plot."
   ]
  },
  {
   "cell_type": "code",
   "execution_count": null,
   "id": "ba75a951",
   "metadata": {},
   "outputs": [],
   "source": [
    "wsResults_figs, wsResults_axs = plt.subplots(nrows=2, figsize=(10, 10))\n",
    "\n",
    "wsResults_axs[0].pie(data=wsResults, x='wins', shadow=True)\n",
    "wsResults_axs[0].set_title('Wins')\n",
    "\n",
    "wsResults_axs[1].pie(data=wsResults, x='losses', shadow=True)\n",
    "wsResults_axs[1].set_title('Losses')\n",
    "\n",
    "wsResults_figs.suptitle('World Series Results', size=24, x=.68)\n",
    "\n",
    "wsResults_figs.legend(labels=wsResults['name'], bbox_to_anchor=(1.0, .82))\n",
    "\n",
    "wsResults_figs.savefig('World_Series_Results.pdf', bbox_inches='tight')"
   ]
  },
  {
   "attachments": {},
   "cell_type": "markdown",
   "id": "8ac30ad0",
   "metadata": {},
   "source": [
    "## Rank the rate of wins/appearances"
   ]
  },
  {
   "cell_type": "code",
   "execution_count": null,
   "id": "cb4a2fc1",
   "metadata": {},
   "outputs": [],
   "source": [
    "win_ratio_plt = sns.barplot(data=wsResults.sort_values('win_ratio', ascending=False), x='win_ratio', y='name')\n",
    "win_ratio_plt.set(ylabel='Team Name', xlabel='World Series Win Ratio')\n",
    "win_ratio_plt.set_title('Ratio Of Wins At World Series', fontsize=24, pad=20, x=.35)\n",
    "\n",
    "win_ratio_plt.figure.savefig('World_Series_Win_Ratio.pdf', bbox_inches='tight')"
   ]
  },
  {
   "cell_type": "code",
   "execution_count": null,
   "id": "a0232d11",
   "metadata": {},
   "outputs": [],
   "source": [
    "loss_ratio_plt = sns.barplot(data=wsResults.sort_values('loss_ratio', ascending=False), x='loss_ratio', y='name')\n",
    "loss_ratio_plt.set(ylabel='Team Name', xlabel='World Series Loss Ratio')\n",
    "loss_ratio_plt.set_title('Ratio Of Losses At World Series', fontsize=24, pad=20, x=.35)\n",
    "\n",
    "loss_ratio_plt.figure.savefig('World_Series_Loss_Ratio.pdf', bbox_inches='tight')"
   ]
  }
 ],
 "metadata": {
  "kernelspec": {
   "display_name": "venv",
   "language": "python",
   "name": "python3"
  },
  "language_info": {
   "codemirror_mode": {
    "name": "ipython",
    "version": 3
   },
   "file_extension": ".py",
   "mimetype": "text/x-python",
   "name": "python",
   "nbconvert_exporter": "python",
   "pygments_lexer": "ipython3",
   "version": "3.10.9"
  },
  "vscode": {
   "interpreter": {
    "hash": "07ae73d8d6124c5eb4a36a8cd40b089dc63da2c02d3d7f8d7bd96e8acccf4263"
   }
  }
 },
 "nbformat": 4,
 "nbformat_minor": 5
}
